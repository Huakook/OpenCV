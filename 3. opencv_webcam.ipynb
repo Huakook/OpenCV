{
 "cells": [
  {
   "cell_type": "code",
   "execution_count": 5,
   "metadata": {},
   "outputs": [],
   "source": [
    "#video display\n",
    "\n",
    "import cv2\n",
    "cap = cv2.VideoCapture(0) # webcam\n",
    "# Check if the webcam is opened correctly\n",
    "if not cap.isOpened():\n",
    "    raise IOError(\"Cannot open webcam\")\n",
    "while True:\n",
    "    ret, frame = cap.read() # frame is the image captured by the webcam\n",
    "    #frame = cv2.resize(frame, None, fx=0.5, fy=0.5, interpolation=cv2.INTER_AREA)\n",
    "    cv2.imshow('Input', frame) # show the image read by the web cam\n",
    "    c = cv2.waitKey(1) # c is the key pressed by the user\n",
    "    if c == 27: # ascii = 27 ->> esc; when ESC is pressed, break the loop \n",
    "        break\n",
    "cap.release() # turn off the camera\n",
    "cv2.destroyAllWindows()"
   ]
  },
  {
   "cell_type": "code",
   "execution_count": 16,
   "metadata": {
    "scrolled": true
   },
   "outputs": [],
   "source": [
    "#temporal subtraction simple\n",
    "\n",
    "import cv2\n",
    "cap = cv2.VideoCapture(0)\n",
    "# Check if the webcam is opened correctly\n",
    "if not cap.isOpened():\n",
    "    raise IOError(\"Cannot open webcam\")\n",
    "cur_frame, prev_frame = None, None\n",
    "while True:\n",
    "    ret, frame = cap.read()\n",
    "    prev_frame = cur_frame\n",
    "    # cv2.resize(img_src, dsize(y, x), fx(scaling factor for x axis), fy(scaling factor for y axis), interpolation(resizing))\n",
    "    cur_frame = cv2.resize(frame, None, fx=0.5, fy=0.5, interpolation=cv2.INTER_AREA) # resizing the image\n",
    "    if prev_frame is not None:\n",
    "        sub_frame = cv2.absdiff(cur_frame , prev_frame) # compute the absolute difference of the previous image and the current image\n",
    "        cv2.imshow('temporal subtraction', sub_frame) # show the difference of the two images\n",
    "    c = cv2.waitKey(1) # delay for 1 millisec\n",
    "    if c == 27:\n",
    "        break\n",
    "cap.release()\n",
    "cv2.destroyAllWindows()"
   ]
  },
  {
   "cell_type": "markdown",
   "metadata": {},
   "source": [
    "## %%writefile test\n",
    "## Practice\n",
    "1. Perform <b>Temporal Subtraction</b>. i.e., <i>abs(I(t)-I(t-1))</i> where <i>I(t)</i> is the captured image at time instant <i>t</i>.\n",
    "2. Perform <b>Background Subtraction</b>. i.e., <i>abs(I(t)-I(0))</i> where <i>I(0)</i> is the first captured image after your program starts the execution.\n",
    "3. Show the background image and both subtracted images.\n",
    "4. Compare the differences. What is the pros and cons of these two methods?\n",
    "5. Upload your Jupyter code file (*.ipynb)"
   ]
  },
  {
   "cell_type": "code",
   "execution_count": 3,
   "metadata": {},
   "outputs": [],
   "source": [
    "import cv2\n",
    "cap = cv2.VideoCapture(0)\n",
    "\n",
    "if not cap.isOpened():\n",
    "    raise IOError('Cannot open webcam')\n",
    "first_ret, first_img = cap.read()\n",
    "\n",
    "cur_img, prev_img = None, None\n",
    "#1. Perform Temporal Subtraction. i.e., abs(I(t)-I(t-1)) where I(t) is the captured image at time instant t.\n",
    "#AND\n",
    "#2. Perform Background Subtraction. i.e., abs(I(t)-I(0)) where I(0) is the first captured image after your program starts the execution.\n",
    "if(first_ret == True):\n",
    "    cv2.imshow('background image', first_img)\n",
    "    while True:\n",
    "        prev_img = cur_img\n",
    "        ret, cur_img = cap.read()\n",
    "        if prev_img is not None:\n",
    "            temporal_diff_img = cv2.absdiff(cur_img, prev_img)\n",
    "            background_diff_img = cv2.absdiff(cur_img, first_img)\n",
    "            cv2.imshow('temporal subtraction', temporal_diff_img)\n",
    "            cv2.imshow('background subtraction', background_diff_img)\n",
    "        c = cv2.waitKey(1)\n",
    "        if c == 27:\n",
    "            break\n",
    "#2. Perform Background Subtraction. i.e., abs(I(t)-I(0)) where I(0) is the first captured image after your program starts the execution.\n",
    "# cv2.imshow('background image', first_img)\n",
    "# if(first_ret == True):\n",
    "#     while True:\n",
    "#         ret, cur_img = cap.read()\n",
    "#         background_diff_img = cv2.absdiff(cur_img, first_img)\n",
    "#         cv2.imshow('background subtraction', background_diff_img)\n",
    "#         c = cv2.waitKey(1)\n",
    "#         if c == 27:\n",
    "#             break\n",
    "cap.release()\n",
    "cv2.destroyAllWindows()"
   ]
  },
  {
   "cell_type": "code",
   "execution_count": null,
   "metadata": {},
   "outputs": [],
   "source": []
  },
  {
   "cell_type": "code",
   "execution_count": null,
   "metadata": {},
   "outputs": [],
   "source": []
  }
 ],
 "metadata": {
  "kernelspec": {
   "display_name": "Python 3 (ipykernel)",
   "language": "python",
   "name": "python3"
  },
  "language_info": {
   "codemirror_mode": {
    "name": "ipython",
    "version": 3
   },
   "file_extension": ".py",
   "mimetype": "text/x-python",
   "name": "python",
   "nbconvert_exporter": "python",
   "pygments_lexer": "ipython3",
   "version": "3.12.7"
  }
 },
 "nbformat": 4,
 "nbformat_minor": 4
}
