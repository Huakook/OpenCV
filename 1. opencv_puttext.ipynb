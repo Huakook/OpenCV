{
 "cells": [
  {
   "cell_type": "code",
   "execution_count": 1,
   "metadata": {},
   "outputs": [
    {
     "name": "stdout",
     "output_type": "stream",
     "text": [
      "<class 'numpy.ndarray'>\n"
     ]
    }
   ],
   "source": [
    "# %load opencv_show_image.py\n",
    "\"\"\"\n",
    "Created on Tue Sep 10 22:18:29 2019\n",
    "\n",
    "@author: CV\n",
    "\"\"\"\n",
    "\n",
    "#display an image\n",
    "\n",
    "import cv2\n",
    "import numpy\n",
    "\n",
    "img = cv2.imread('sakura.jpg')\n",
    "print(str(type(img)))\n",
    "cv2.imshow('Color', img)\n",
    "cv2.waitKey()\n",
    "cv2.destroyAllWindows()"
   ]
  },
  {
   "cell_type": "code",
   "execution_count": 4,
   "metadata": {
    "scrolled": true
   },
   "outputs": [
    {
     "name": "stdout",
     "output_type": "stream",
     "text": [
      "225 225 3\n",
      "225 225\n"
     ]
    }
   ],
   "source": [
    "#convert to grayscale and display an image\n",
    "\n",
    "import cv2\n",
    "import numpy\n",
    "\n",
    "input_img = cv2.imread('sakura.jpg')\n",
    "height, width, channels = input_img.shape\n",
    "print(height, width, channels)# channels = 3\n",
    "\n",
    "gray_img = cv2.cvtColor(input_img, cv2.COLOR_BGR2GRAY) # cvtColor() converts the color space of an image from one to another\n",
    "height, width = gray_img.shape\n",
    "print(height, width)\n",
    "\n",
    "cv2.imshow('Grayscale', gray_img)\n",
    "cv2.waitKey()\n",
    "cv2.destroyAllWindows()"
   ]
  },
  {
   "cell_type": "code",
   "execution_count": 6,
   "metadata": {},
   "outputs": [
    {
     "name": "stdout",
     "output_type": "stream",
     "text": [
      "<class 'numpy.ndarray'>\n",
      "225 225 3\n"
     ]
    }
   ],
   "source": [
    "#putText in an image and write to a file\n",
    "\n",
    "import cv2\n",
    "import numpy\n",
    "\n",
    "img = cv2.imread('sakura.jpg')\n",
    "print(type(img))\n",
    "height, width, channels = img.shape\n",
    "print(height, width, channels)\n",
    "cv2.putText(img, \"FPS\" , (0, height), cv2.FONT_HERSHEY_SIMPLEX, 1, (0,0,0), 2)\n",
    "cv2.imwrite('sakura_text.png', img)\n",
    "cv2.imshow('putText', img)\n",
    "cv2.waitKey()\n",
    "cv2.destroyAllWindows()"
   ]
  },
  {
   "cell_type": "code",
   "execution_count": 5,
   "metadata": {},
   "outputs": [
    {
     "name": "stdout",
     "output_type": "stream",
     "text": [
      "Overwriting test.py\n"
     ]
    }
   ],
   "source": [
    "%%writefile test.py\n",
    "#display an image\n",
    "\n",
    "import cv2\n",
    "import numpy\n",
    "img = cv2.imread('sakura.jpg')\n",
    "print(str(type(img)))\n",
    "cv2.imshow('Color', img)\n",
    "cv2.waitKey()\n",
    "cv2.destroyAllWindows()"
   ]
  },
  {
   "cell_type": "markdown",
   "metadata": {},
   "source": [
    "%%writefile test\n",
    "## Practice\n",
    "1. Read an image from file\n",
    "2. Draw two lines\n",
    "3. Draw a circle\n",
    "4. Draw a rectangle\n",
    "5. Draw text (your student id)\n",
    "6. Show the image\n",
    "7. Write the image to file\n",
    "8. Upload your image file"
   ]
  },
  {
   "cell_type": "code",
   "execution_count": null,
   "metadata": {},
   "outputs": [],
   "source": [
    "import cv2\n",
    "#1.Read an image from file\n",
    "img = cv2.imread('sakura.jpg')\n",
    "#2.Draw two lines - cv2.line(image, start_point, end_point, color(B,G,R), thickness(pixel)):\n",
    "line1 = [(0, 20), (200, 200)]# original point is at upper left\n",
    "cv2.line(img, line1[0], line1[1], (255, 0, 0), 3)\n",
    "\n",
    "line2 = [(5, 215), (195, 5)]\n",
    "cv2.line(img, line2[0], line2[1], (0, 0, 255), 2)\n",
    "#3.Draw a circle - cv2.circle(image, center, radius, color, thickness)\n",
    "circle_center = (113, 113)\n",
    "radius = 100\n",
    "cv2.circle(img, circle_center, radius, (0, 255, 0), 5)\n",
    "#4.Draw a rectangle - cv2.rectangle(image, top_left, bottom_right, color, thickness)\n",
    "top_left, bottom_right = (5, 5), (220, 220)\n",
    "cv2.rectangle(img, top_left, bottom_right, (0, 255, 255), 10)\n",
    "#5. Draw text (your student id) - cv2.putText(image, text, position, font, font_scale, color, thickness)\n",
    "position = (10, 20)\n",
    "cv2.putText(img, '411021314', position, cv2.FONT_HERSHEY_SIMPLEX, 0.75, (255, 0 , 255), 2)\n",
    "#6. Show the image\n",
    "cv2.imshow('Sakura', img)\n",
    "#7. Write the image to file - cv2.imwrite('filename', img)\n",
    "cv2.imwrite('sakura_putText.jpg', img)\n",
    "\n",
    "cv2.waitKey()\n",
    "cv2.destroyAllWindows()"
   ]
  }
 ],
 "metadata": {
  "kernelspec": {
   "display_name": "Python 3 (ipykernel)",
   "language": "python",
   "name": "python3"
  },
  "language_info": {
   "codemirror_mode": {
    "name": "ipython",
    "version": 3
   },
   "file_extension": ".py",
   "mimetype": "text/x-python",
   "name": "python",
   "nbconvert_exporter": "python",
   "pygments_lexer": "ipython3",
   "version": "3.12.7"
  }
 },
 "nbformat": 4,
 "nbformat_minor": 4
}
