{
 "cells": [
  {
   "cell_type": "code",
   "execution_count": 3,
   "metadata": {},
   "outputs": [],
   "source": [
    "#temporal subtraction simple\n",
    "\n",
    "import cv2\n",
    "cap = cv2.VideoCapture(\"wiiplay.mp4\")\n",
    "# Check if the webcam is opened correctly\n",
    "if not cap.isOpened():\n",
    "    raise IOError(\"Cannot open webcam\")\n",
    "cur_frame, prev_frame = None, None\n",
    "while True:\n",
    "    ret, frame = cap.read()\n",
    "    prev_frame = cur_frame\n",
    "    cur_frame = cv2.resize(frame, None, fx=0.5, fy=0.5, interpolation=cv2.INTER_AREA)\n",
    "    if prev_frame is not None:\n",
    "        sub_frame = cv2.absdiff(cur_frame , prev_frame)\n",
    "        cv2.imshow('temporal subtraction', sub_frame)\n",
    "    c = cv2.waitKey(1)\n",
    "    if c == 27:\n",
    "        break\n",
    "cap.release()\n",
    "cv2.destroyAllWindows()\n"
   ]
  },
  {
   "attachments": {
    "mhi.png": {
     "image/png": "[encoded data removed]"
    }
   },
   "cell_type": "markdown",
   "metadata": {},
   "source": [
    "## Homework 1\n",
    "1. Read continuous images from <i>WiiPlay.mp4</i> video file. (with level number the same as the last two digits of your student id)\n",
    "2. Convert each image to gray-scale.\n",
    "3. Perform <b>Temporal Subtraction</b>. i.e., <i>G<sub>t</sub>=abs(I<sub>t</sub> - I<sub>t-1</sub>)</i> where <i>I<sub>t</sub></i> is the captured image at time instant <i>t</i>.\n",
    "4. Apply a threshold to detect motion areas, i.e.,  <i>D<sub>t</sub>(x,y)=1 if G<sub>t</sub>(x,y)>Threshold, else 0</i>.\n",
    "5. Perform ![mhi.png](attachment:mhi.png)\n",
    "6. Scale values in <i>H<sub>t</sub>(x,y)</i>to the range [0,255] for better visualization.\n",
    "7. Loop over time and Show the captured image <i>I<sub>t</sub></i>, the temporal subtracion image <i>G<sub>t</sub></i>, the thresholding image <i>D<sub>t</sub></i>, the history image <i>H<sub>t</sub></i>.\n",
    "8. Compare the difference between the temporal subtracion image <i>G<sub>t</sub></i> and the history image <i>H<sub>t</sub></i>.\n",
    "9. Adjust the <i>Threshold</i> value and observe the result.\n",
    "10. Adjust the <i>Tau</i> value and observe the result.\n",
    "11. Adjust the <i>Delta</i> value and observe the result.\n",
    "12. Write down your observation and comparison at the end of your code by adding an individual cell in Jupyter.\n",
    "13. Upload your Jupyter code file (*.ipynb)\n"
   ]
  },
  {
   "cell_type": "code",
   "execution_count": 29,
   "metadata": {},
   "outputs": [
    {
     "data": {
      "text/plain": [
       "'\\nGt(x, y) is temporal subtraction\\n    0: if absdiff(img(t) - img(t-1)) < threshold\\n    1: if absdiff(img(t) - img(t-1)) >= thresholds\\nDt(x, y) is motion detection result\\n    0: stationary pixel(black)\\n    1: moving pixel(white)\\nHt(x, y): is the pixel state over time\\n    tau: set to high value to enhance the motion area if Dt(x, y) = 1\\n    max(0, Ht-1(x, y) - delta): to reduce the value of incative area gradually\\n'"
      ]
     },
     "execution_count": 29,
     "metadata": {},
     "output_type": "execute_result"
    }
   ],
   "source": [
    "#2:25\n",
    "import cv2\n",
    "import numpy as np\n",
    "\n",
    "#1. Read continuous images from WiiPlay.mp4 video file. \n",
    "cap = cv2.VideoCapture('WiiPlay.mp4')\n",
    "if not cap.isOpened():\n",
    "    raise IOError(\"Cannot open the video file\")\n",
    "fps = cap.get(cv2.CAP_PROP_FPS)\n",
    "time = 2 * 60 + 25\n",
    "target_frame = fps * time\n",
    "cap.set(cv2.CAP_PROP_POS_FRAMES, target_frame)\n",
    "ret, img = cap.read()\n",
    "img = cv2.resize(img, None, fx=0.5, fy=0.5, interpolation=cv2.INTER_LINEAR)\n",
    "height , width = img.shape[:2]\n",
    "cur_img, prev_img = cv2.cvtColor(img, cv2.COLOR_BGR2GRAY), None\n",
    "Ht = np.zeros((height, width), dtype=np.uint8)\n",
    "while True:\n",
    "    prev_img = cur_img\n",
    "    ret, cur_img = cap.read()\n",
    "    cur_img = cv2.resize(cur_img, None, fx=0.5, fy=0.5, interpolation=cv2.INTER_LINEAR)\n",
    "    cv2.imshow('It', cur_img)\n",
    "#2. Convert each image to gray-scale.\n",
    "    cur_img = cv2.cvtColor(cur_img, cv2.COLOR_BGR2GRAY)\n",
    "#3. Perform Temporal Subtraction. i.e., Gt=abs(It - It-1) where It is the captured image at time instant t.\n",
    "    Gt = cv2.absdiff(cur_img, prev_img)\n",
    "    cv2.imshow('Gt', Gt)\n",
    "#4. Apply a threshold to detect motion areas, i.e., Dt(x,y)=1 if Gt(x,y)>Threshold, else 0\n",
    "    threshold = 15\n",
    "    tau = 200\n",
    "    ret, Dt = cv2.threshold(Gt, threshold, 255, cv2.THRESH_BINARY) # detect the motion area by threshold\n",
    "    cv2.imshow('Dt', Dt)\n",
    "#5. Perform Ht(x, y) = tau, if Dt(x, y) = 1\n",
    "#                    = max(0, Ht-1(x, y) - delta), otherwise\n",
    "    ret, Ht_mask1 = cv2.threshold(Dt, 1, tau, cv2.THRESH_BINARY) # if Dt == 1, set to tau\n",
    "    cv2.imshow('Ht_mask1', Ht_mask1)\n",
    "    delta = 5\n",
    "    Ht_mask2 = np.zeros((height, width), dtype=np.uint8)\n",
    "    Ht_mask2[: , :] = np.maximum(0, Ht[:, :] - delta) * (Dt[: , :] != 1).astype(np.uint8) # if Dt != 1, fade the stationary part\n",
    "    cv2.imshow('Ht_mask2', Ht_mask2)\n",
    "    Ht = cv2.add(Ht_mask1, Ht_mask2)\n",
    "    cv2.imshow('Ht', Ht)\n",
    "    if cv2.waitKey(10) & 0xFF == 27:\n",
    "        break\n",
    "cap.release()\n",
    "cv2.destroyAllWindows()\n",
    "\n",
    "'''\n",
    "Gt(x, y) is temporal subtraction\n",
    "    0: if absdiff(img(t) - img(t-1)) < threshold\n",
    "    1: if absdiff(img(t) - img(t-1)) >= thresholds\n",
    "Dt(x, y) is motion detection result\n",
    "    0: stationary pixel(black)\n",
    "    1: moving pixel(white)\n",
    "Ht(x, y): is the pixel state over time\n",
    "    tau: set to high value to enhance the motion area if Dt(x, y) = 1\n",
    "    max(0, Ht-1(x, y) - delta): to reduce the value of incative area gradually\n",
    "'''\n",
    "\n"
   ]
  },
  {
   "cell_type": "code",
   "execution_count": null,
   "metadata": {},
   "outputs": [],
   "source": [
    "'''\n",
    "threshold affets the detected part\n",
    "tau controls the enhancement degree of the motion area\n",
    "the smaller the delta is, the more shadow the Ht has\n",
    "'''"
   ]
  }
 ],
 "metadata": {
  "kernelspec": {
   "display_name": "Python 3 (ipykernel)",
   "language": "python",
   "name": "python3"
  },
  "language_info": {
   "codemirror_mode": {
    "name": "ipython",
    "version": 3
   },
   "file_extension": ".py",
   "mimetype": "text/x-python",
   "name": "python",
   "nbconvert_exporter": "python",
   "pygments_lexer": "ipython3",
   "version": "3.12.7"
  }
 },
 "nbformat": 4,
 "nbformat_minor": 4
}
