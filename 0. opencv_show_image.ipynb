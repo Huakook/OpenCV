{
 "cells": [
  {
   "cell_type": "code",
   "execution_count": 3,
   "metadata": {},
   "outputs": [
    {
     "name": "stdout",
     "output_type": "stream",
     "text": [
      "<class 'numpy.ndarray'>\n"
     ]
    }
   ],
   "source": [
    "# %load opencv_show_image.py\n",
    "\"\"\"\n",
    "Created on Tue Sep 10 22:18:29 2019\n",
    "\n",
    "@author: CV\n",
    "\"\"\"\n",
    "\n",
    "#display an image\n",
    "\n",
    "import cv2\n",
    "import numpy\n",
    "\n",
    "img = cv2.imread('sakura.jpg')\n",
    "print(str(type(img)))\n",
    "cv2.imshow('Color', img)\n",
    "cv2.waitKey()\n",
    "cv2.destroyAllWindows()"
   ]
  }
 ],
 "metadata": {
  "kernelspec": {
   "display_name": "Python 3 (ipykernel)",
   "language": "python",
   "name": "python3"
  },
  "language_info": {
   "codemirror_mode": {
    "name": "ipython",
    "version": 3
   },
   "file_extension": ".py",
   "mimetype": "text/x-python",
   "name": "python",
   "nbconvert_exporter": "python",
   "pygments_lexer": "ipython3",
   "version": "3.12.7"
  }
 },
 "nbformat": 4,
 "nbformat_minor": 4
}
